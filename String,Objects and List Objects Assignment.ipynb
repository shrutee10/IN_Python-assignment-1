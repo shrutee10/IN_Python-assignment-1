{
 "cells": [
  {
   "cell_type": "markdown",
   "id": "ca7edbd1",
   "metadata": {},
   "source": [
    "# String,Objects and List Objects Que 1"
   ]
  },
  {
   "cell_type": "code",
   "execution_count": 2,
   "id": "fc47f5cb",
   "metadata": {},
   "outputs": [
    {
     "name": "stdout",
     "output_type": "stream",
     "text": [
      "* \r\n",
      "* * \r\n",
      "* * * \r\n",
      "* * * * \r\n",
      "* * * * * \r\n",
      "* * * * \r\n",
      "* * * \r\n",
      "* * \r\n",
      "* \r\n"
     ]
    }
   ],
   "source": [
    "def pattern(n):\n",
    "      for i in range(0, n):\n",
    "           for j in range(0, i + 1):\n",
    "                print(\"* \", end=\"\")\n",
    "           print(\"\\r\")\n",
    "      for i in range(n, -1 , -1):\n",
    "          for j in range(0, i + 1):\n",
    "               print(\"* \", end=\"\")\n",
    "          print(\"\\r\")\n",
    " \n",
    "pattern(4)"
   ]
  },
  {
   "cell_type": "markdown",
   "id": "29282a3f",
   "metadata": {},
   "source": [
    "# String,Objects and List Objects Que 2"
   ]
  },
  {
   "cell_type": "code",
   "execution_count": 4,
   "id": "4ad63480",
   "metadata": {},
   "outputs": [
    {
     "name": "stdout",
     "output_type": "stream",
     "text": [
      "Please enter  String : ineuron\n",
      "The Reversed String :  norueni\n"
     ]
    }
   ],
   "source": [
    "string1 = input(\"Please enter  String : \")\n",
    "\n",
    "string2 = ''\n",
    "i = len(string1) - 1\n",
    "\n",
    "while(i >= 0):\n",
    "    string2 = string2 + string1[i]\n",
    "    i = i - 1\n",
    "    \n",
    "\n",
    "print(\"The Reversed String : \", string2)"
   ]
  },
  {
   "cell_type": "code",
   "execution_count": null,
   "id": "e9840fda",
   "metadata": {},
   "outputs": [],
   "source": []
  }
 ],
 "metadata": {
  "kernelspec": {
   "display_name": "Python 3",
   "language": "python",
   "name": "python3"
  },
  "language_info": {
   "codemirror_mode": {
    "name": "ipython",
    "version": 3
   },
   "file_extension": ".py",
   "mimetype": "text/x-python",
   "name": "python",
   "nbconvert_exporter": "python",
   "pygments_lexer": "ipython3",
   "version": "3.8.8"
  }
 },
 "nbformat": 4,
 "nbformat_minor": 5
}
